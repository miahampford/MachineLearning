{
 "cells": [
  {
   "cell_type": "markdown",
   "metadata": {
    "colab_type": "text",
    "id": "7cSXh8dy3_tf"
   },
   "source": [
    "# Assignment 3: Clustering California Housing with K-means"
   ]
  },
  {
   "cell_type": "markdown",
   "metadata": {
    "colab_type": "text",
    "id": "Dp4lehex3_ti"
   },
   "source": [
    "### CS 4501 Machine Learning - Department of Computer Science - University of Virginia\n",
    "\"Tonight, more than 130,000 Californians will go to sleep homeless. That’s enough to fill Dodger Stadium, AT&T Park and Petco Park. The biggest culprit is rising housing costs. From 2000 to 2014, median rent in California increased by more than one-third, while real incomes for renters fell by 7 percent. Today, 1.5 million Californians spend more than half their income on housing. This crisis threatens not just low-income families but our entire economy, driving businesses to relocate to states in which their employees can afford to live. - **Business Insider, Sep 2018.**\"\n",
    "\n",
    "![Half of the homes in San Franciso is now one million or above](https://amp.businessinsider.com/images/573de0b88d3eaea27198a55d-960-480.jpg)\n",
    "\n",
    "In this assignment, you will attempt to cluster the California Housing by implementing and analyzing the k-means algorithm to the data. K-Means is one of the most popular clustering algorithms. K-means stores k-centroids that it uses to define clusters. A point is considered to be in a particular cluster if it is closer to that cluster's centroid than any other centroid. For references, you may refer to my lecture 9 or Chapter 2 of the textbook if you need additional sample codes to help with your assignment. For deliverables, you must write code in Python and submit this Jupyter Notebook file (.ipynb) to earn a total of 100 pts. You will gain points depending on how you perform in the following sections.\n"
   ]
  },
  {
   "cell_type": "markdown",
   "metadata": {
    "colab_type": "text",
    "id": "OLpK737R3_tk"
   },
   "source": [
    "---\n",
    "## 1. PRE-PROCESSING THE DATA (10 pts)\n",
    "\n",
    "Download the California Housing dataset from the below link. This dataset includes statistics about the median income, median age, average number of rooms per person, average number of persons in a household etc. The statistics were gathered per geographical block.\n",
    "\n",
    "**Data Acquiring:** Download the dataset from https://www.kaggle.com/camnugent/california-housing-prices\n",
    "\n",
    "**Data Discovery, Visualization, and Cleaning:** Fortunately, this step have been given to you (for free) from chapter 2. However, you should review them and write the code necessary for the purposes of this assignment. "
   ]
  },
  {
   "cell_type": "code",
   "execution_count": 1,
   "metadata": {
    "colab": {},
    "colab_type": "code",
    "id": "2WQ3-JIC3_tm"
   },
   "outputs": [],
   "source": [
    "# You might want to use the following package\n",
    "from sklearn.model_selection import train_test_split\n",
    "from pandas.plotting import scatter_matrix # optional\n",
    "from sklearn.preprocessing import Imputer\n",
    "from sklearn.preprocessing import LabelEncoder\n",
    "from sklearn.preprocessing import OneHotEncoder\n",
    "from sklearn.pipeline import Pipeline\n",
    "from sklearn.preprocessing import StandardScaler\n",
    "import os\n",
    "import pandas as pd\n",
    "import warnings; warnings.simplefilter('ignore')\n",
    "\n",
    "#Get the data\n",
    "def load_data(path = '../Downloads'):\n",
    "    csv_path = os.path.join(path, \"housing.csv\")\n",
    "    return pd.read_csv(csv_path)\n",
    "\n",
    "housing = load_data()\n",
    "\n",
    "# Your code goes here for this section.\n",
    "# X_train = [];\n",
    "# X_test = [];"
   ]
  },
  {
   "cell_type": "code",
   "execution_count": 2,
   "metadata": {},
   "outputs": [
    {
     "name": "stdout",
     "output_type": "stream",
     "text": [
      "<class 'pandas.core.frame.DataFrame'>\n",
      "RangeIndex: 20640 entries, 0 to 20639\n",
      "Data columns (total 10 columns):\n",
      "longitude             20640 non-null float64\n",
      "latitude              20640 non-null float64\n",
      "housing_median_age    20640 non-null float64\n",
      "total_rooms           20640 non-null float64\n",
      "total_bedrooms        20433 non-null float64\n",
      "population            20640 non-null float64\n",
      "households            20640 non-null float64\n",
      "median_income         20640 non-null float64\n",
      "median_house_value    20640 non-null float64\n",
      "ocean_proximity       20640 non-null object\n",
      "dtypes: float64(9), object(1)\n",
      "memory usage: 1.6+ MB\n",
      "\n",
      "\n"
     ]
    },
    {
     "data": {
      "text/html": [
       "<div>\n",
       "<style scoped>\n",
       "    .dataframe tbody tr th:only-of-type {\n",
       "        vertical-align: middle;\n",
       "    }\n",
       "\n",
       "    .dataframe tbody tr th {\n",
       "        vertical-align: top;\n",
       "    }\n",
       "\n",
       "    .dataframe thead th {\n",
       "        text-align: right;\n",
       "    }\n",
       "</style>\n",
       "<table border=\"1\" class=\"dataframe\">\n",
       "  <thead>\n",
       "    <tr style=\"text-align: right;\">\n",
       "      <th></th>\n",
       "      <th>longitude</th>\n",
       "      <th>latitude</th>\n",
       "      <th>housing_median_age</th>\n",
       "      <th>total_rooms</th>\n",
       "      <th>total_bedrooms</th>\n",
       "      <th>population</th>\n",
       "      <th>households</th>\n",
       "      <th>median_income</th>\n",
       "      <th>median_house_value</th>\n",
       "    </tr>\n",
       "  </thead>\n",
       "  <tbody>\n",
       "    <tr>\n",
       "      <th>count</th>\n",
       "      <td>20640.000000</td>\n",
       "      <td>20640.000000</td>\n",
       "      <td>20640.000000</td>\n",
       "      <td>20640.000000</td>\n",
       "      <td>20433.000000</td>\n",
       "      <td>20640.000000</td>\n",
       "      <td>20640.000000</td>\n",
       "      <td>20640.000000</td>\n",
       "      <td>20640.000000</td>\n",
       "    </tr>\n",
       "    <tr>\n",
       "      <th>mean</th>\n",
       "      <td>-119.569704</td>\n",
       "      <td>35.631861</td>\n",
       "      <td>28.639486</td>\n",
       "      <td>2635.763081</td>\n",
       "      <td>537.870553</td>\n",
       "      <td>1425.476744</td>\n",
       "      <td>499.539680</td>\n",
       "      <td>3.870671</td>\n",
       "      <td>206855.816909</td>\n",
       "    </tr>\n",
       "    <tr>\n",
       "      <th>std</th>\n",
       "      <td>2.003532</td>\n",
       "      <td>2.135952</td>\n",
       "      <td>12.585558</td>\n",
       "      <td>2181.615252</td>\n",
       "      <td>421.385070</td>\n",
       "      <td>1132.462122</td>\n",
       "      <td>382.329753</td>\n",
       "      <td>1.899822</td>\n",
       "      <td>115395.615874</td>\n",
       "    </tr>\n",
       "    <tr>\n",
       "      <th>min</th>\n",
       "      <td>-124.350000</td>\n",
       "      <td>32.540000</td>\n",
       "      <td>1.000000</td>\n",
       "      <td>2.000000</td>\n",
       "      <td>1.000000</td>\n",
       "      <td>3.000000</td>\n",
       "      <td>1.000000</td>\n",
       "      <td>0.499900</td>\n",
       "      <td>14999.000000</td>\n",
       "    </tr>\n",
       "    <tr>\n",
       "      <th>25%</th>\n",
       "      <td>-121.800000</td>\n",
       "      <td>33.930000</td>\n",
       "      <td>18.000000</td>\n",
       "      <td>1447.750000</td>\n",
       "      <td>296.000000</td>\n",
       "      <td>787.000000</td>\n",
       "      <td>280.000000</td>\n",
       "      <td>2.563400</td>\n",
       "      <td>119600.000000</td>\n",
       "    </tr>\n",
       "    <tr>\n",
       "      <th>50%</th>\n",
       "      <td>-118.490000</td>\n",
       "      <td>34.260000</td>\n",
       "      <td>29.000000</td>\n",
       "      <td>2127.000000</td>\n",
       "      <td>435.000000</td>\n",
       "      <td>1166.000000</td>\n",
       "      <td>409.000000</td>\n",
       "      <td>3.534800</td>\n",
       "      <td>179700.000000</td>\n",
       "    </tr>\n",
       "    <tr>\n",
       "      <th>75%</th>\n",
       "      <td>-118.010000</td>\n",
       "      <td>37.710000</td>\n",
       "      <td>37.000000</td>\n",
       "      <td>3148.000000</td>\n",
       "      <td>647.000000</td>\n",
       "      <td>1725.000000</td>\n",
       "      <td>605.000000</td>\n",
       "      <td>4.743250</td>\n",
       "      <td>264725.000000</td>\n",
       "    </tr>\n",
       "    <tr>\n",
       "      <th>max</th>\n",
       "      <td>-114.310000</td>\n",
       "      <td>41.950000</td>\n",
       "      <td>52.000000</td>\n",
       "      <td>39320.000000</td>\n",
       "      <td>6445.000000</td>\n",
       "      <td>35682.000000</td>\n",
       "      <td>6082.000000</td>\n",
       "      <td>15.000100</td>\n",
       "      <td>500001.000000</td>\n",
       "    </tr>\n",
       "  </tbody>\n",
       "</table>\n",
       "</div>"
      ],
      "text/plain": [
       "          longitude      latitude  housing_median_age   total_rooms  \\\n",
       "count  20640.000000  20640.000000        20640.000000  20640.000000   \n",
       "mean    -119.569704     35.631861           28.639486   2635.763081   \n",
       "std        2.003532      2.135952           12.585558   2181.615252   \n",
       "min     -124.350000     32.540000            1.000000      2.000000   \n",
       "25%     -121.800000     33.930000           18.000000   1447.750000   \n",
       "50%     -118.490000     34.260000           29.000000   2127.000000   \n",
       "75%     -118.010000     37.710000           37.000000   3148.000000   \n",
       "max     -114.310000     41.950000           52.000000  39320.000000   \n",
       "\n",
       "       total_bedrooms    population    households  median_income  \\\n",
       "count    20433.000000  20640.000000  20640.000000   20640.000000   \n",
       "mean       537.870553   1425.476744    499.539680       3.870671   \n",
       "std        421.385070   1132.462122    382.329753       1.899822   \n",
       "min          1.000000      3.000000      1.000000       0.499900   \n",
       "25%        296.000000    787.000000    280.000000       2.563400   \n",
       "50%        435.000000   1166.000000    409.000000       3.534800   \n",
       "75%        647.000000   1725.000000    605.000000       4.743250   \n",
       "max       6445.000000  35682.000000   6082.000000      15.000100   \n",
       "\n",
       "       median_house_value  \n",
       "count        20640.000000  \n",
       "mean        206855.816909  \n",
       "std         115395.615874  \n",
       "min          14999.000000  \n",
       "25%         119600.000000  \n",
       "50%         179700.000000  \n",
       "75%         264725.000000  \n",
       "max         500001.000000  "
      ]
     },
     "execution_count": 2,
     "metadata": {},
     "output_type": "execute_result"
    }
   ],
   "source": [
    "#Examining the Data - for more information see chapter 2\n",
    "housing.info()\n",
    "print(\"\\n\")\n",
    "housing.describe()"
   ]
  },
  {
   "cell_type": "code",
   "execution_count": 3,
   "metadata": {},
   "outputs": [],
   "source": [
    "housingmax = housing.max()\n",
    "housingmin = housing.min()"
   ]
  },
  {
   "cell_type": "code",
   "execution_count": 4,
   "metadata": {},
   "outputs": [
    {
     "data": {
      "text/html": [
       "<div>\n",
       "<style scoped>\n",
       "    .dataframe tbody tr th:only-of-type {\n",
       "        vertical-align: middle;\n",
       "    }\n",
       "\n",
       "    .dataframe tbody tr th {\n",
       "        vertical-align: top;\n",
       "    }\n",
       "\n",
       "    .dataframe thead th {\n",
       "        text-align: right;\n",
       "    }\n",
       "</style>\n",
       "<table border=\"1\" class=\"dataframe\">\n",
       "  <thead>\n",
       "    <tr style=\"text-align: right;\">\n",
       "      <th></th>\n",
       "      <th>longitude</th>\n",
       "      <th>latitude</th>\n",
       "      <th>housing_median_age</th>\n",
       "      <th>total_rooms</th>\n",
       "      <th>total_bedrooms</th>\n",
       "      <th>population</th>\n",
       "      <th>households</th>\n",
       "      <th>median_income</th>\n",
       "      <th>median_house_value</th>\n",
       "      <th>ocean_proximity</th>\n",
       "    </tr>\n",
       "  </thead>\n",
       "  <tbody>\n",
       "    <tr>\n",
       "      <th>290</th>\n",
       "      <td>-122.16</td>\n",
       "      <td>37.77</td>\n",
       "      <td>47.0</td>\n",
       "      <td>1256.0</td>\n",
       "      <td>NaN</td>\n",
       "      <td>570.0</td>\n",
       "      <td>218.0</td>\n",
       "      <td>4.3750</td>\n",
       "      <td>161900.0</td>\n",
       "      <td>NEAR BAY</td>\n",
       "    </tr>\n",
       "    <tr>\n",
       "      <th>341</th>\n",
       "      <td>-122.17</td>\n",
       "      <td>37.75</td>\n",
       "      <td>38.0</td>\n",
       "      <td>992.0</td>\n",
       "      <td>NaN</td>\n",
       "      <td>732.0</td>\n",
       "      <td>259.0</td>\n",
       "      <td>1.6196</td>\n",
       "      <td>85100.0</td>\n",
       "      <td>NEAR BAY</td>\n",
       "    </tr>\n",
       "    <tr>\n",
       "      <th>538</th>\n",
       "      <td>-122.28</td>\n",
       "      <td>37.78</td>\n",
       "      <td>29.0</td>\n",
       "      <td>5154.0</td>\n",
       "      <td>NaN</td>\n",
       "      <td>3741.0</td>\n",
       "      <td>1273.0</td>\n",
       "      <td>2.5762</td>\n",
       "      <td>173400.0</td>\n",
       "      <td>NEAR BAY</td>\n",
       "    </tr>\n",
       "    <tr>\n",
       "      <th>563</th>\n",
       "      <td>-122.24</td>\n",
       "      <td>37.75</td>\n",
       "      <td>45.0</td>\n",
       "      <td>891.0</td>\n",
       "      <td>NaN</td>\n",
       "      <td>384.0</td>\n",
       "      <td>146.0</td>\n",
       "      <td>4.9489</td>\n",
       "      <td>247100.0</td>\n",
       "      <td>NEAR BAY</td>\n",
       "    </tr>\n",
       "    <tr>\n",
       "      <th>696</th>\n",
       "      <td>-122.10</td>\n",
       "      <td>37.69</td>\n",
       "      <td>41.0</td>\n",
       "      <td>746.0</td>\n",
       "      <td>NaN</td>\n",
       "      <td>387.0</td>\n",
       "      <td>161.0</td>\n",
       "      <td>3.9063</td>\n",
       "      <td>178400.0</td>\n",
       "      <td>NEAR BAY</td>\n",
       "    </tr>\n",
       "  </tbody>\n",
       "</table>\n",
       "</div>"
      ],
      "text/plain": [
       "     longitude  latitude  housing_median_age  total_rooms  total_bedrooms  \\\n",
       "290    -122.16     37.77                47.0       1256.0             NaN   \n",
       "341    -122.17     37.75                38.0        992.0             NaN   \n",
       "538    -122.28     37.78                29.0       5154.0             NaN   \n",
       "563    -122.24     37.75                45.0        891.0             NaN   \n",
       "696    -122.10     37.69                41.0        746.0             NaN   \n",
       "\n",
       "     population  households  median_income  median_house_value ocean_proximity  \n",
       "290       570.0       218.0         4.3750            161900.0        NEAR BAY  \n",
       "341       732.0       259.0         1.6196             85100.0        NEAR BAY  \n",
       "538      3741.0      1273.0         2.5762            173400.0        NEAR BAY  \n",
       "563       384.0       146.0         4.9489            247100.0        NEAR BAY  \n",
       "696       387.0       161.0         3.9063            178400.0        NEAR BAY  "
      ]
     },
     "execution_count": 4,
     "metadata": {},
     "output_type": "execute_result"
    }
   ],
   "source": [
    "sample_incomplete_rows = housing[housing.isnull().any(axis=1)].head()\n",
    "sample_incomplete_rows"
   ]
  },
  {
   "cell_type": "code",
   "execution_count": null,
   "metadata": {},
   "outputs": [],
   "source": [
    "from sklearn.preprocessing import Imputer\n",
    "from sklearn.preprocessing import StandardScaler\n",
    "from sklearn.pipeline import Pipeline\n",
    "from sklearn.compose import ColumnTransformer\n",
    "\n",
    "housing_num = housing.drop('ocean_proximity', axis=1)\n",
    "\n",
    "num_pipeline = Pipeline([\n",
    "    ('imputer', Imputer(strategy = \"median\")),\n",
    "    ('std_scaler', StandardScaler()),\n",
    "])\n",
    "\n",
    "num_attribs = list(housing_num)\n",
    "cat_attribs = [\"ocean_proximity\"]\n",
    "\n",
    "full_pipeline = ColumnTransformer([\n",
    "    ('num', num_pipeline, num_attribs),\n",
    "    ('cat', OneHotEncoder(), cat_attribs),\n",
    "])\n",
    "\n",
    "housing_prepared = full_pipeline.fit_transform(housing)\n"
   ]
  },
  {
   "cell_type": "code",
   "execution_count": 6,
   "metadata": {},
   "outputs": [],
   "source": [
    "train_set, test_set = train_test_split(housing_prepared, test_size=.2, random_state=42)"
   ]
  },
  {
   "cell_type": "markdown",
   "metadata": {
    "colab_type": "text",
    "id": "2ZFd6TC_3_ts"
   },
   "source": [
    "- - -\n",
    "## 2. IMPLEMENTING K-MEANS (40 pts)\n",
    "\n",
    "You must implement your own version of K-Means Algorithm. Input a cluster count K and M data points each with its own vector of N features, along with the choice of a distance measure; then:\n",
    "\n",
    "1. Initialize K centroids. In our case, a centroid is just the average of all data in a cluster.\n",
    "2. Assign each data point to the cluster that has the closest centroid base on a **distance measure** below.\n",
    "3. After all data points have been assigned to clusters, recalculate the centroids for each cluster (as averages of all points in the cluster).\n",
    "4. Repeat the data assignments and centroid calculations until no change in housing assignment occurs between iterations.\n",
    "\n",
    "**Distance Measures:** Your implementation must include the Euclidean distance which is:\n",
    "$d(\\mathbf{x},\\mathbf{y}) = \\sqrt[\\leftroot{2}\\uproot{2}2]{\\sum\\limits_{i=1}^n|x_i - y_i|^2}$\n",
    "\n",
    "**Implementation Notes:** Note that your functions should return distance measures; that is, the returned value should be high if the two vectors are dissimilar, low if they are similar, and zero if they are completely identical."
   ]
  },
  {
   "cell_type": "code",
   "execution_count": 7,
   "metadata": {
    "colab": {},
    "colab_type": "code",
    "id": "SB89ZcCw3_tt"
   },
   "outputs": [],
   "source": [
    "import math\n",
    "import numpy as np\n",
    "\n",
    "# Function: K Means\n",
    "# -------------\n",
    "# K-Means is an algorithm that takes in a dataset and a constant\n",
    "# k and returns k centroids (which define clusters of data in the\n",
    "# dataset which are similar to one another).\n",
    "\n",
    "numCols = 14;\n",
    "datasize = int(train_set.size/numCols)    \n",
    "\n",
    "def kMeans(dataset, k):\n",
    "    \n",
    "    #randomly assign clusters\n",
    "    originalClusters = np.zeros(datasize)\n",
    "    for i in range(0,datasize):\n",
    "        originalClusters[i] = np.random.randint(0, k)\n",
    "                \n",
    "    #initialize k centroids\n",
    "    kCentroids = np.zeros((k,numCols));\n",
    "    #calculate centroids\n",
    "    kCentroids = recalc(dataset, originalClusters, k)\n",
    "    \n",
    "    #iterate until no change\n",
    "    return kMeanCalc(dataset, k, kCentroids, originalClusters)\n",
    "    \n",
    "    \n",
    "def kMeanCalc(dataset, k, kCentroids, clusters):\n",
    "    newClusters = assignClusters(dataset, kCentroids, k)\n",
    "    if(np.array_equal(newClusters, clusters)):\n",
    "        return kCentroids, clusters\n",
    "    kCentroids = recalc(dataset, newClusters, k)\n",
    "    return kMeanCalc(dataset, k, kCentroids, newClusters)\n",
    "\n",
    "def assignClusters(dataset, kCentroids, k):\n",
    "    clusters = np.zeros(datasize)\n",
    "    for i in range(0,datasize):\n",
    "        minCentroid = 0;\n",
    "        mindist = np.linalg.norm(dataset[i]-kCentroids[0])\n",
    "        for j in range(1,k):\n",
    "            dist = np.linalg.norm(dataset[i]-kCentroids[j])\n",
    "            if (dist < mindist):\n",
    "                minCentroid = j\n",
    "                mindist = dist\n",
    "        clusters[i] = int(minCentroid)\n",
    "    return clusters\n",
    "\n",
    "def recalc(dataset, clusters, k):\n",
    "    kCentroids = np.zeros((k,numCols));\n",
    "    sums = np.zeros((k,numCols));\n",
    "    counts = np.zeros(k);\n",
    "    for i in range(0, datasize):\n",
    "        sums[int(clusters[i])] += dataset[i]\n",
    "        counts[int(clusters[i])] += 1\n",
    "    for i in range(0,k):\n",
    "        if(counts[i] == 0): kCentroids[i] = 0\n",
    "        else: kCentroids[i] = sums[i]/counts[i]\n",
    "    return kCentroids\n"
   ]
  },
  {
   "cell_type": "code",
   "execution_count": 8,
   "metadata": {},
   "outputs": [
    {
     "data": {
      "text/plain": [
       "array([[-7.27092853e-01,  1.13912927e+00, -4.35213505e-01,\n",
       "        -4.06295105e-01, -4.31127783e-01, -4.39818384e-01,\n",
       "        -4.68256358e-01, -5.15480482e-01, -8.43702503e-01,\n",
       "         6.96864111e-02,  8.80758808e-01,  0.00000000e+00,\n",
       "         3.17460317e-02,  1.78087495e-02],\n",
       "       [-1.08804173e+00,  1.04572811e+00, -7.03643516e-01,\n",
       "         6.73445982e-01,  6.80214481e-01,  5.83551182e-01,\n",
       "         6.99304080e-01,  1.89200472e-02, -7.51629351e-02,\n",
       "         2.94862773e-01,  4.13089374e-01,  0.00000000e+00,\n",
       "         1.86488388e-01,  1.05559465e-01],\n",
       "       [-1.28562750e+00,  1.07071660e+00,  1.19563431e+00,\n",
       "        -4.12703141e-01, -3.80851558e-01, -4.24160136e-01,\n",
       "        -3.75624715e-01, -3.77310920e-01, -1.39541137e-01,\n",
       "         1.44193726e-01,  1.81618052e-01,  0.00000000e+00,\n",
       "         5.44854155e-01,  1.29334067e-01],\n",
       "       [ 2.15632422e-01, -1.82650690e-01, -1.01433926e+00,\n",
       "         2.55801516e+00,  2.67387492e+00,  2.40818171e+00,\n",
       "         2.64821934e+00,  2.06100162e-01,  1.31054502e-01,\n",
       "         4.72131148e-01,  3.67213115e-01,  0.00000000e+00,\n",
       "         8.36065574e-02,  7.70491803e-02],\n",
       "       [ 9.60111809e-01, -8.73850402e-01, -7.66648054e-01,\n",
       "        -3.16868344e-01, -2.82934129e-01, -2.90097195e-01,\n",
       "        -3.12074202e-01, -2.39917507e-01, -4.25034218e-01,\n",
       "         3.82851446e-01,  3.73878365e-01,  0.00000000e+00,\n",
       "         0.00000000e+00,  2.43270189e-01],\n",
       "       [-1.27478338e+00,  9.14196475e-01,  1.63941089e-01,\n",
       "        -1.31086456e-01, -3.59378100e-01, -3.89785290e-01,\n",
       "        -3.33876584e-01,  1.40594248e+00,  1.50594241e+00,\n",
       "         3.39489886e-01,  6.94810906e-02,  0.00000000e+00,\n",
       "         4.02814424e-01,  1.88214600e-01],\n",
       "       [ 6.96571277e-01, -8.24310715e-01,  5.14104305e-02,\n",
       "        -2.49845215e-02, -2.66146817e-01, -3.13963112e-01,\n",
       "        -2.50742653e-01,  1.45887083e+00,  1.62481768e+00,\n",
       "         7.73976787e-01,  5.68112401e-02,  6.10873549e-04,\n",
       "         0.00000000e+00,  1.68601100e-01],\n",
       "       [ 3.07156270e-01, -2.39845033e-01, -1.45546958e+00,\n",
       "         6.68185767e+00,  6.26384196e+00,  6.21152105e+00,\n",
       "         6.27650974e+00,  4.94982261e-01,  1.66771355e-01,\n",
       "         4.49152542e-01,  4.23728814e-01,  0.00000000e+00,\n",
       "         6.77966102e-02,  5.93220339e-02],\n",
       "       [ 7.12662461e-01, -7.75009812e-01,  7.92182094e-01,\n",
       "        -4.83022107e-01, -4.30134845e-01, -2.97455534e-01,\n",
       "        -4.16635174e-01, -3.65859640e-01, -2.59418685e-01,\n",
       "         7.55125614e-01,  1.33410338e-01,  8.66300895e-04,\n",
       "         0.00000000e+00,  1.10597748e-01],\n",
       "       [ 8.16203989e-01, -8.14013577e-01, -4.50504977e-01,\n",
       "         6.04103391e-01,  8.34607871e-01,  8.48241331e-01,\n",
       "         8.25866760e-01, -2.00463331e-01, -7.70885245e-02,\n",
       "         6.41279070e-01,  2.19186047e-01,  0.00000000e+00,\n",
       "         0.00000000e+00,  1.39534884e-01]])"
      ]
     },
     "execution_count": 8,
     "metadata": {},
     "output_type": "execute_result"
    }
   ],
   "source": [
    "k = 10\n",
    "kCentroids, clusters = kMeans(train_set, k)\n",
    "kCentroids"
   ]
  },
  {
   "cell_type": "markdown",
   "metadata": {
    "colab_type": "text",
    "id": "t6vW6tyo3_tv"
   },
   "source": [
    "- - -\n",
    "## 3. CLUSTERING HOUSING INTO REGIONS (40 pts)\n",
    "\n",
    "Now that you have implemented the K-Means as the clustering algorithm. Applying the algorithm for k=2 clusters to see if you can split California into a Northern and Southern regions.\n",
    "\n",
    "* **Cluster the data:** Write down the SSE (sum squared error), cluster means, within cluster standard deviations for each attribute, etc. Visualize the clustering by plot the latitude along the X axis and longitude along the Y axis. You should get a plot that looks roughly in the shape of California (see Chapter 2 for more details). Using the cluster means and std. deviations as representative values in the cluster, what can you say about the clusters that were found? How do they compare with what you know about cities and areas in California? What can you attribute the gaps to? It will definitely be helpful to have a map of California handy.\n",
    "\n",
    "* **Change the number of clusters:** Change k from 2 to 10 and repeat the clustering process above. Record cluster means and standard deviations. When you change k, do any additional patterns emerge? If so, what are they? Applying the algorithm for 10 clusters to see if it clearly identified the silicon valley area as one cluster (where houses are relatively new and expensive, median income is high), the area of San Francisco as another etc. While SF and Silicon Valley may have a somewhat similar profile (at least, compared with mid CA), they were separated mainly due to the latitude/longtitue properties, that involve a dimension of geographical cohesiveness.\n",
    "\n",
    "**Implementation Notes:** For each k, report the training and validation accuracy. Identify the k with the highest validation accuracy, and report the test accuracy with this choice of k. Note: if multiple values of k result in the highest validation accuracy, then report test accuracies for all such values of k. Then, plot the data points with different markers corresponding to different classes. Repeat this process for all k and discuss the smoothness of the regions as k increases.\n"
   ]
  },
  {
   "cell_type": "code",
   "execution_count": 9,
   "metadata": {},
   "outputs": [],
   "source": [
    "#helpful functions\n",
    "import math\n",
    "\n",
    "def SSE(dataset, kCentroids, clusters, k):\n",
    "    sums = np.zeros(k);\n",
    "    count = np.zeros(k);\n",
    "    for i in range(0, clusters.size):\n",
    "        for j in range(0,numCols):\n",
    "            sums[int(clusters[i])] += (dataset[i][j] - kCentroids[int(clusters[i])][j])**2\n",
    "            count[int(clusters[i])] += 1\n",
    "    sse = 0\n",
    "    for i in range(0,k):\n",
    "        sse += sums[i];\n",
    "    return sse \n",
    "\n",
    "def stdDev(dataset, kCentroids, clusters, k):\n",
    "    \n",
    "    std = np.zeros((k,numCols))\n",
    "    count = np.zeros((k,numCols))\n",
    "    for i in range(0, clusters.size):\n",
    "        for j in range(0,numCols):\n",
    "            std[int(clusters[i])][j] += (dataset[i][j] - kCentroids[int(clusters[i])][j])**2\n",
    "            count[int(clusters[i])] += 1\n",
    "    \n",
    "    for i in range(0,k):\n",
    "        for j in range(0,numCols):\n",
    "            std[i][j] = math.sqrt(std[i][j]/count[i][j])\n",
    "            \n",
    "    return std\n",
    "        "
   ]
  },
  {
   "cell_type": "code",
   "execution_count": 10,
   "metadata": {},
   "outputs": [],
   "source": [
    "k = 2\n",
    "kCentroidsTwo, clustersTwo = kMeans(train_set, k)"
   ]
  },
  {
   "cell_type": "code",
   "execution_count": 14,
   "metadata": {
    "colab": {},
    "colab_type": "code",
    "id": "Vi058vv73_tw"
   },
   "outputs": [
    {
     "name": "stdout",
     "output_type": "stream",
     "text": [
      "SSE for k=2:\n",
      "124770.01268956691\n",
      "Cluster Means:\n",
      "[[-2.97214973e-02  2.74727522e-02  1.13771974e-01 -2.52235039e-01\n",
      "  -2.62470249e-01 -2.43773995e-01 -2.63789640e-01 -1.71081873e-02\n",
      "  -1.75628890e-02  4.39879278e-01  3.15385143e-01  2.74367241e-04\n",
      "   1.16057343e-01  1.28403869e-01]\n",
      " [ 1.70501998e-01 -1.62060408e-01 -8.79264570e-01  1.92683775e+00\n",
      "   2.01336405e+00  1.84594718e+00  1.99953693e+00  1.74371132e-01\n",
      "   1.57548133e-01  4.80082773e-01  3.25400931e-01  0.00000000e+00\n",
      "   8.38075530e-02  1.10708743e-01]]\n",
      "Cluster Standard Deviations:\n",
      "[[0.26751005 0.26934173 0.2602594  0.12355814 0.12931802 0.13722017\n",
      "  0.13060525 0.26901515 0.26956663 0.13266109 0.12418804 0.00442632\n",
      "  0.08560208 0.0894093 ]\n",
      " [0.26302538 0.24727103 0.19680288 0.43777727 0.39528509 0.44461826\n",
      "  0.39254015 0.25473683 0.25011224 0.13352456 0.12521843 0.\n",
      "  0.07405782 0.08385886]]\n"
     ]
    },
    {
     "data": {
      "image/png": "[encoded data removed]",
      "text/plain": [
       "<Figure size 432x288 with 1 Axes>"
      ]
     },
     "metadata": {
      "needs_background": "light"
     },
     "output_type": "display_data"
    }
   ],
   "source": [
    "import matplotlib.pyplot as plt\n",
    "from sklearn.preprocessing import StandardScaler\n",
    "\n",
    "#k=2\n",
    "k=2\n",
    "print('SSE for k=2:')\n",
    "print(SSE(train_set, kCentroidsTwo, clustersTwo, k))\n",
    "print('Cluster Means:')\n",
    "print(kCentroidsTwo)\n",
    "print('Cluster Standard Deviations:')\n",
    "print(stdDev(train_set, kCentroidsTwo, clustersTwo, k))\n",
    "\n",
    "long = np.zeros(k)\n",
    "lat = np.zeros(k)\n",
    "for i in range(0,k):\n",
    "    long[i] = kCentroidsTwo[i][0]\n",
    "    lat[i] = kCentroidsTwo[i][1]\n",
    "    \n",
    "long2 = np.zeros(datasize)\n",
    "lat2 = np.zeros(datasize)\n",
    "for i in range(0,datasize):\n",
    "    long2[i] = train_set[i][0]\n",
    "    lat2[i] = train_set[i][1]\n",
    "\n",
    "\n",
    "plt.ylabel(\"Latitude\", fontsize=14)\n",
    "plt.xlabel(\"Longitude\", fontsize=14)\n",
    "plt.scatter( x = long2, y=lat2, color='grey')\n",
    "plt.scatter( x=long, y=lat)\n",
    "\n",
    "plt.xlim(-1.25,1.25)\n",
    "plt.ylim(-1.25,1.5)\n",
    "plt.axis('scaled')\n",
    "\n",
    "plt.show()"
   ]
  },
  {
   "cell_type": "markdown",
   "metadata": {},
   "source": [
    "The graph above shows two clusters, one mainly for northern California and one for southern California. According to these results the two are generally pretty close together. "
   ]
  },
  {
   "cell_type": "code",
   "execution_count": 15,
   "metadata": {},
   "outputs": [],
   "source": [
    "#k=10\n",
    "\n",
    "k = 10\n",
    "kCentroidsTen, clustersTen = kMeans(train_set, k)\n"
   ]
  },
  {
   "cell_type": "code",
   "execution_count": 18,
   "metadata": {},
   "outputs": [
    {
     "name": "stdout",
     "output_type": "stream",
     "text": [
      "SSE for k=10:\n",
      "55789.03579743114\n",
      "Cluster Means:\n",
      "[[-7.27092853e-01  1.13912927e+00 -4.35213505e-01 -4.06295105e-01\n",
      "  -4.31127783e-01 -4.39818384e-01 -4.68256358e-01 -5.15480482e-01\n",
      "  -8.43702503e-01  6.96864111e-02  8.80758808e-01  0.00000000e+00\n",
      "   3.17460317e-02  1.78087495e-02]\n",
      " [-1.08804173e+00  1.04572811e+00 -7.03643516e-01  6.73445982e-01\n",
      "   6.80214481e-01  5.83551182e-01  6.99304080e-01  1.89200472e-02\n",
      "  -7.51629351e-02  2.94862773e-01  4.13089374e-01  0.00000000e+00\n",
      "   1.86488388e-01  1.05559465e-01]\n",
      " [-1.28562750e+00  1.07071660e+00  1.19563431e+00 -4.12703141e-01\n",
      "  -3.80851558e-01 -4.24160136e-01 -3.75624715e-01 -3.77310920e-01\n",
      "  -1.39541137e-01  1.44193726e-01  1.81618052e-01  0.00000000e+00\n",
      "   5.44854155e-01  1.29334067e-01]\n",
      " [ 2.15632422e-01 -1.82650690e-01 -1.01433926e+00  2.55801516e+00\n",
      "   2.67387492e+00  2.40818171e+00  2.64821934e+00  2.06100162e-01\n",
      "   1.31054502e-01  4.72131148e-01  3.67213115e-01  0.00000000e+00\n",
      "   8.36065574e-02  7.70491803e-02]\n",
      " [ 9.60111809e-01 -8.73850402e-01 -7.66648054e-01 -3.16868344e-01\n",
      "  -2.82934129e-01 -2.90097195e-01 -3.12074202e-01 -2.39917507e-01\n",
      "  -4.25034218e-01  3.82851446e-01  3.73878365e-01  0.00000000e+00\n",
      "   0.00000000e+00  2.43270189e-01]\n",
      " [-1.27478338e+00  9.14196475e-01  1.63941089e-01 -1.31086456e-01\n",
      "  -3.59378100e-01 -3.89785290e-01 -3.33876584e-01  1.40594248e+00\n",
      "   1.50594241e+00  3.39489886e-01  6.94810906e-02  0.00000000e+00\n",
      "   4.02814424e-01  1.88214600e-01]\n",
      " [ 6.96571277e-01 -8.24310715e-01  5.14104305e-02 -2.49845215e-02\n",
      "  -2.66146817e-01 -3.13963112e-01 -2.50742653e-01  1.45887083e+00\n",
      "   1.62481768e+00  7.73976787e-01  5.68112401e-02  6.10873549e-04\n",
      "   0.00000000e+00  1.68601100e-01]\n",
      " [ 3.07156270e-01 -2.39845033e-01 -1.45546958e+00  6.68185767e+00\n",
      "   6.26384196e+00  6.21152105e+00  6.27650974e+00  4.94982261e-01\n",
      "   1.66771355e-01  4.49152542e-01  4.23728814e-01  0.00000000e+00\n",
      "   6.77966102e-02  5.93220339e-02]\n",
      " [ 7.12662461e-01 -7.75009812e-01  7.92182094e-01 -4.83022107e-01\n",
      "  -4.30134845e-01 -2.97455534e-01 -4.16635174e-01 -3.65859640e-01\n",
      "  -2.59418685e-01  7.55125614e-01  1.33410338e-01  8.66300895e-04\n",
      "   0.00000000e+00  1.10597748e-01]\n",
      " [ 8.16203989e-01 -8.14013577e-01 -4.50504977e-01  6.04103391e-01\n",
      "   8.34607871e-01  8.48241331e-01  8.25866760e-01 -2.00463331e-01\n",
      "  -7.70885245e-02  6.41279070e-01  2.19186047e-01  0.00000000e+00\n",
      "   0.00000000e+00  1.39534884e-01]]\n"
     ]
    },
    {
     "data": {
      "image/png": "[encoded data removed]",
      "text/plain": [
       "<Figure size 432x288 with 1 Axes>"
      ]
     },
     "metadata": {
      "needs_background": "light"
     },
     "output_type": "display_data"
    }
   ],
   "source": [
    "k=10\n",
    "print('SSE for k=10:')\n",
    "print(SSE(train_set, kCentroidsTen, clustersTen, k))\n",
    "print('Cluster Means:')\n",
    "print(kCentroids)\n",
    "\n",
    "k=10\n",
    "long = np.zeros(k)\n",
    "lat = np.zeros(k)\n",
    "for i in range(0,k):\n",
    "    long[i] = kCentroidsTen[i][0]\n",
    "    lat[i] = kCentroidsTen[i][1]\n",
    "\n",
    "long2 = np.zeros(datasize)\n",
    "lat2 = np.zeros(datasize)\n",
    "for i in range(0,datasize):\n",
    "    long2[i] = train_set[i][0]\n",
    "    lat2[i] = train_set[i][1]\n",
    "    \n",
    "plt.ylabel(\"Latitude\", fontsize=14)\n",
    "plt.xlabel(\"Longitude\", fontsize=14)\n",
    "plt.scatter( x = long2, y=lat2, color='grey')\n",
    "plt.scatter( x=long, y=lat)\n",
    "plt.xlim(-1.25,1.25)\n",
    "plt.ylim(-1.25,1.5)\n",
    "plt.axis('scaled')\n",
    "\n",
    "plt.show()\n"
   ]
  },
  {
   "cell_type": "markdown",
   "metadata": {},
   "source": [
    "In this graph, you can see the different areas of California broken down even more. In the south there are clusters for San Diego and Los Angeles, while in the north there are clusters around San Francisco, Sacramento, and the Silicon Valley area. With a k of 10, the SSE was 55789."
   ]
  },
  {
   "cell_type": "code",
   "execution_count": 20,
   "metadata": {},
   "outputs": [
    {
     "name": "stdout",
     "output_type": "stream",
     "text": [
      "SSE for k= 2\n",
      "129837.89363271117\n",
      "SSE for k= 3\n",
      "97865.2600744951\n",
      "SSE for k= 4\n",
      "85641.66426143488\n",
      "SSE for k= 5\n",
      "79372.10073322782\n",
      "SSE for k= 6\n",
      "70168.70973038263\n",
      "SSE for k= 7\n",
      "66134.25446401456\n",
      "SSE for k= 8\n",
      "61318.84668210683\n",
      "SSE for k= 9\n",
      "58126.49456129085\n"
     ]
    }
   ],
   "source": [
    "#Finding the best k value:\n",
    "for k in range(2,10):\n",
    "    kCentroids, clusters = kMeans(train_set, k)\n",
    "    print('SSE for k=', k)\n",
    "    print(SSE(train_set, kCentroids, clusters, k))"
   ]
  },
  {
   "cell_type": "code",
   "execution_count": 23,
   "metadata": {},
   "outputs": [
    {
     "name": "stdout",
     "output_type": "stream",
     "text": [
      "SSE for k= 10\n"
     ]
    },
    {
     "data": {
      "image/png": "[encoded data removed]",
      "text/plain": [
       "<Figure size 432x288 with 1 Axes>"
      ]
     },
     "metadata": {
      "needs_background": "light"
     },
     "output_type": "display_data"
    }
   ],
   "source": [
    "#Run test set on best k value:\n",
    "\n",
    "k=10\n",
    "datasize = int(test_set.size/numCols)    \n",
    "\n",
    "kCentroids, clusters = kMeans(test_set, k)\n",
    "print('SSE for k=', k)\n",
    "\n",
    "long = np.zeros(k)\n",
    "lat = np.zeros(k)\n",
    "for i in range(0,k):\n",
    "    long[i] = kCentroidsTen[i][0]\n",
    "    lat[i] = kCentroidsTen[i][1]\n",
    "\n",
    "long2 = np.zeros(datasize)\n",
    "lat2 = np.zeros(datasize)\n",
    "for i in range(0,datasize):\n",
    "    long2[i] = test_set[i][0]\n",
    "    lat2[i] = test_set[i][1]\n",
    "    \n",
    "plt.ylabel(\"Latitude\", fontsize=14)\n",
    "plt.xlabel(\"Longitude\", fontsize=14)\n",
    "plt.scatter( x = long2, y=lat2, color='grey')\n",
    "plt.scatter( x=long, y=lat)\n",
    "plt.xlim(-1.25,1.25)\n",
    "plt.ylim(-1.25,1.5)\n",
    "plt.axis('scaled')\n",
    "\n",
    "plt.show()\n"
   ]
  },
  {
   "cell_type": "markdown",
   "metadata": {
    "colab_type": "text",
    "id": "NZ4QG5s-3_tz"
   },
   "source": [
    "- - -\n",
    "## 4. WRITING ON THE INTUITION FOR THE CALIFORNIA HOUSING CRISIS (10 pts)\n",
    "\n",
    "This question is a qualitative one, and is intended to let you experiment with a real world clustering task. Hopefully it gives you some intuition as for how the preset number of clusters affects the clustering results. Too few clusters may not reveal the information that is in the data. Too many clusters may hurt data analysis as well, as it may not generalize (and in this sense, it is equivalent to over fitting).\n",
    "\n",
    "Write at least one paragraph to demonstrate your intuition on the California Housing Crisis. You might also want to mention some possible solutions to solve it. You will receive credits based upon your insights and intuitions on this challenge. \n",
    "\n"
   ]
  },
  {
   "cell_type": "markdown",
   "metadata": {},
   "source": [
    "The California Housing Crisis is a complicated issue surrounding the ever increasing price of housing in California. The price of housing in all the major cities is incredibly expensive, a result of the large amount of people who want to live there. The graphs above all show the California housing situation broken into the most important clusters, which surround major areas like San Francisco and Los Angeles. Within these major geographic areas, there are a few clusters, which are differentiated by parameters other than location. These other parameters are likely housing price and income, as these are two parameters with a very large range.\n",
    "The increasing housing prices are contributing to California's large homeless population. One solution to this crisis may be to build denser, cheaper housing. This tends to be difficult due to the fact that California is already so overcrowded, but building more new smaller housing could work to bring prices back down to a more manageable level."
   ]
  },
  {
   "cell_type": "markdown",
   "metadata": {
    "colab_type": "text",
    "id": "5yfa4aHc3_tz"
   },
   "source": [
    "- - - \n",
    "### NEED HELP?"
   ]
  },
  {
   "cell_type": "markdown",
   "metadata": {
    "colab_type": "text",
    "id": "gBgdTs583_t0"
   },
   "source": [
    "In case you get stuck in any step in the process, you may find some useful information from:\n",
    "\n",
    " * Consult my lectures and/or the textbook\n",
    " * Talk to the TA, they are available and there to help you during their OH.\n",
    " * Come talk to me or email me <nn4pj@virginia.edu> with subject starting \"CS4501 Assignment 3:...\".\n",
    "\n",
    "Best of luck and have fun!"
   ]
  },
  {
   "cell_type": "code",
   "execution_count": null,
   "metadata": {
    "colab": {},
    "colab_type": "code",
    "id": "HDQ0QHjU3_t1"
   },
   "outputs": [],
   "source": []
  }
 ],
 "metadata": {
  "colab": {
   "collapsed_sections": [],
   "name": "CS 4501 Assignment 3.ipynb",
   "provenance": [],
   "version": "0.3.2"
  },
  "kernelspec": {
   "display_name": "Python 3",
   "language": "python",
   "name": "python3"
  },
  "language_info": {
   "codemirror_mode": {
    "name": "ipython",
    "version": 3
   },
   "file_extension": ".py",
   "mimetype": "text/x-python",
   "name": "python",
   "nbconvert_exporter": "python",
   "pygments_lexer": "ipython3",
   "version": "3.7.0"
  }
 },
 "nbformat": 4,
 "nbformat_minor": 1
}
